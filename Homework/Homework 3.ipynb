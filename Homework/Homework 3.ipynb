{
 "cells": [
  {
   "cell_type": "code",
   "execution_count": 2,
   "metadata": {},
   "outputs": [
    {
     "name": "stdout",
     "output_type": "stream",
     "text": [
      "===============================================================\n",
      "Shipping Calculator\n",
      "===============================================================\n",
      "Cost of items ordered:  10\n",
      "Your shipping cost is 5.95!\n",
      "Your total cost is 15.95!\n",
      "Continue? (y/n): n\n",
      "===============================================================\n",
      "Bye!\n"
     ]
    }
   ],
   "source": [
    "#!/usr/bin/env python3\n",
    "\n",
    "# display a welcome message\n",
    "print(\"===============================================================\")\n",
    "print(\"Shipping Calculator\")\n",
    "print(\"===============================================================\")\n",
    "\n",
    "while True:\n",
    "\n",
    "    # get input from the user\n",
    "    cost_of_items = float(input(\"Cost of items ordered:  \"))\n",
    "\n",
    "    # make sure input is a positive number\n",
    "    if cost_of_items < 0:\n",
    "        print(\"You must enter a positive number. Please try again.\")\n",
    "        continue\n",
    "    \n",
    "    # to do: get shipping cost(one given for example)\n",
    "    if cost_of_items >= 75:\n",
    "        shipping_cost = 0\n",
    "    elif (cost_of_items <=74.99 and cost_of_items >= 50):\n",
    "        shipping_cost = 9.95\n",
    "    elif (cost_of_items <=49.99 and cost_of_items >= 30):\n",
    "        shipping_cost = 7.95\n",
    "    else: shipping_cost = 5.95\n",
    "    \n",
    "    # To do: calculate total cost: total_cost\n",
    "    total_cost = cost_of_items + shipping_cost\n",
    "\n",
    "    # to do: display in output, print shipping cost, print total cost\n",
    "    print(\"Your shipping cost is \" + str(shipping_cost) + \"!\")\n",
    "    print(\"Your total cost is \" + str(total_cost) + \"!\")\n",
    "    \n",
    "    # see if the user wants to continue\n",
    "    choice = input(\"Continue? (y/n): \")\n",
    "    print(\"===============================================================\")\n",
    "    if choice[0].lower() != \"y\":\n",
    "        break\n",
    "        \n",
    "print(\"Bye!\")"
   ]
  },
  {
   "cell_type": "code",
   "execution_count": null,
   "metadata": {},
   "outputs": [],
   "source": []
  }
 ],
 "metadata": {
  "kernelspec": {
   "display_name": "Python 3",
   "language": "python",
   "name": "python3"
  },
  "language_info": {
   "codemirror_mode": {
    "name": "ipython",
    "version": 3
   },
   "file_extension": ".py",
   "mimetype": "text/x-python",
   "name": "python",
   "nbconvert_exporter": "python",
   "pygments_lexer": "ipython3",
   "version": "3.7.3"
  }
 },
 "nbformat": 4,
 "nbformat_minor": 2
}
